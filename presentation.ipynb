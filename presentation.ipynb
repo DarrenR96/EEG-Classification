{
 "cells": [
  {
   "cell_type": "markdown",
   "metadata": {},
   "source": [
    "# Image classification using EEG Data "
   ]
  },
  {
   "cell_type": "markdown",
   "metadata": {},
   "source": [
    "#### Import Libraries "
   ]
  },
  {
   "cell_type": "code",
   "execution_count": null,
   "metadata": {},
   "outputs": [],
   "source": [
    "import pandas as pd \n",
    "import matplotlib.pyplot as plt \n",
    "from sklearn.preprocessing import OneHotEncoder\n",
    "import numpy as np \n",
    "import tensorflow as tf \n",
    "import keras \n",
    "import random "
   ]
  },
  {
   "cell_type": "markdown",
   "metadata": {},
   "source": [
    "#### Prepare Data"
   ]
  },
  {
   "cell_type": "code",
   "execution_count": 2,
   "metadata": {},
   "outputs": [],
   "source": [
    "spectrogram_data = np.load('data/spectrogram.npy')\n",
    "labels = pd.read_csv('data/labels_desc.csv')\n",
    "\n",
    "labelEncoder = OneHotEncoder()\n",
    "labelEncoder.fit(labels['label'].to_numpy().reshape(-1, 1))\n",
    "\n",
    "train_df = labels[labels['split'] == 'Train']\n",
    "test_df = labels[labels['split'] == 'Test']\n",
    "\n",
    "train_df_idxs = train_df.index.to_list()\n",
    "test_df_idxs = test_df.index.to_list()\n",
    "\n",
    "x_train, y_train = spectrogram_data[train_df_idxs], labelEncoder.transform(train_df['label'].to_numpy().reshape(-1, 1)).toarray()\n",
    "x_test, y_test = spectrogram_data[test_df_idxs], labelEncoder.transform(test_df['label'].to_numpy().reshape(-1, 1)).toarray()"
   ]
  },
  {
   "cell_type": "markdown",
   "metadata": {},
   "source": [
    "#### Model Definition"
   ]
  },
  {
   "cell_type": "code",
   "execution_count": null,
   "metadata": {},
   "outputs": [],
   "source": [
    "inputs = keras.Input((14, 33, 62))\n",
    "\n",
    "x = keras.layers.Conv2D(92, 5, 2, activation='leaky_relu')(inputs)  # <-- Conv2D\n",
    "x = keras.layers.Dropout(0.2)(x)\n",
    "x = keras.layers.Conv2D(128, 5, 2, activation='leaky_relu')(x)      # <-- Conv2D\n",
    "x = keras.layers.Dropout(0.2)(x)\n",
    "\n",
    "x = keras.layers.Flatten()(x)                                       # <-- Flatten\n",
    "\n",
    "x = keras.layers.Dense(256, activation='leaky_relu')(x)             # <-- Dense\n",
    "x = keras.layers.Dropout(0.2)(x)\n",
    "x = keras.layers.Dense(128, activation='leaky_relu')(x)             # <-- Dense\n",
    "x = keras.layers.Dense(64, activation='leaky_relu')(x)              # <-- Dense\n",
    "\n",
    "outputs = keras.layers.Dense(40, activation='softmax')(x)           # <-- Dense\n",
    "\n",
    "# Create Model\n",
    "model = keras.Model(inputs, outputs)\n",
    "\n",
    "# Visualize Model\n",
    "print(model.summary())\n",
    "keras.utils.plot_model(model, show_shapes=True)"
   ]
  },
  {
   "cell_type": "markdown",
   "metadata": {},
   "source": [
    "#### Compile and Train Model"
   ]
  },
  {
   "cell_type": "code",
   "execution_count": null,
   "metadata": {},
   "outputs": [],
   "source": [
    "model.compile(keras.optimizers.Adam(1e-3), \n",
    "              keras.losses.CategoricalCrossentropy(), \n",
    "              metrics=['categorical_accuracy'])\n",
    "\n",
    "model.fit(x_train, y_train, \n",
    "          batch_size=48, epochs=100, \n",
    "          validation_data=(x_test, y_test))"
   ]
  },
  {
   "cell_type": "markdown",
   "metadata": {},
   "source": [
    "#### Evaluate Model"
   ]
  },
  {
   "cell_type": "code",
   "execution_count": null,
   "metadata": {},
   "outputs": [],
   "source": [
    "loaded_model = keras.models.load_model('models/savedModel.keras')\n",
    "test_loss, test_accuracy = loaded_model.evaluate(x_test, y_test)\n",
    "\n",
    "print(f\"\\n\\nMulti-class Accuracy on Test-Set: {round(test_accuracy*100, 2)}%\")"
   ]
  }
 ],
 "metadata": {
  "kernelspec": {
   "display_name": "tfPy_311",
   "language": "python",
   "name": "python3"
  },
  "language_info": {
   "codemirror_mode": {
    "name": "ipython",
    "version": 3
   },
   "file_extension": ".py",
   "mimetype": "text/x-python",
   "name": "python",
   "nbconvert_exporter": "python",
   "pygments_lexer": "ipython3",
   "version": "3.11.5"
  }
 },
 "nbformat": 4,
 "nbformat_minor": 2
}
